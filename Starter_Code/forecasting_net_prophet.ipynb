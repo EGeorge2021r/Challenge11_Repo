version https://git-lfs.github.com/spec/v1
oid sha256:b27b5dbf79b18eab62927678103e352b432e04df2288ce1169674cc0e8ea95c9
size 82491
