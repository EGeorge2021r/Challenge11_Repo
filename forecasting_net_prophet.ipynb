version https://git-lfs.github.com/spec/v1
oid sha256:100c60c3b51457835913603012c7c4a3875679b7ce6495ad0dc4a785cc747700
size 44783197
